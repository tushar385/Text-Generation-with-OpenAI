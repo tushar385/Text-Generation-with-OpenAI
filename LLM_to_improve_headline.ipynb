{
  "nbformat": 4,
  "nbformat_minor": 0,
  "metadata": {
    "colab": {
      "provenance": [],
      "toc_visible": true
    },
    "kernelspec": {
      "name": "python3",
      "display_name": "Python 3"
    },
    "language_info": {
      "name": "python"
    }
  },
  "cells": [
    {
      "cell_type": "code",
      "execution_count": null,
      "metadata": {
        "id": "PK6PjKDxRkpt"
      },
      "outputs": [],
      "source": [
        "# !pip install openai==0.28"
      ]
    },
    {
      "cell_type": "code",
      "source": [
        "# !pip show openai\n",
        "\n",
        "# Version: 0.28.0"
      ],
      "metadata": {
        "id": "dYXvLeNNqahn"
      },
      "execution_count": null,
      "outputs": []
    },
    {
      "cell_type": "code",
      "source": [
        "import openai\n",
        "import os\n",
        "import pandas as pd\n",
        "# import instructor\n",
        "\n",
        "openai.api_key = 'sk-proj-abc123'"
      ],
      "metadata": {
        "id": "xfpHHnjWR-zD"
      },
      "execution_count": null,
      "outputs": []
    },
    {
      "cell_type": "code",
      "source": [
        "system_prompt = \"\"\"You are an AI assistant trained to improve headlines by focusing on campaign performance issues.\n",
        " Your goal is to rewrite headlines to emphasize what went wrong based on provided data.\"\"\"\n",
        "\n",
        "def get_completion(prompt, model=\"gpt-4o-mini\"):\n",
        "    messages = [{\"role\":\"system\", \"content\":system_prompt},\n",
        "                {\"role\": \"user\", \"content\": prompt}]\n",
        "    response = openai.ChatCompletion.create(\n",
        "        model=model,\n",
        "        response_format={\"type\": \"json_object\"},\n",
        "        messages=messages,\n",
        "        # response_model=UserInfo,\n",
        "        temperature=0.1, # this is the degree of randomness of the model's output\n",
        "    )\n",
        "    return response.choices[0].message[\"content\"]"
      ],
      "metadata": {
        "id": "aerTWp7hSfMC"
      },
      "execution_count": null,
      "outputs": []
    },
    {
      "cell_type": "code",
      "source": [
        "df = pd.read_csv(\"/content/results-20250402-064102 - table with edits final.csv\")  ## input csv"
      ],
      "metadata": {
        "id": "iitZxUENSgpQ"
      },
      "execution_count": null,
      "outputs": []
    },
    {
      "cell_type": "code",
      "source": [
        "import json\n",
        "\n",
        "prompt = \"\"\"\n",
        "You are analyzing a Google Ads campaign dataset provided in CSV format. Your task is to **rewrite headlines** so that they clearly indicate **what went wrong** instead of just suggesting improvements.\n",
        "\n",
        "### **Instructions:**\n",
        "- Review all available columns in the dataset.\n",
        "- Identify key **performance drops** (e.g., CPC increase, impression decline, budget misallocation, low conversion rates).\n",
        "- Rewrite the headlines to **highlight the issue** causing poor performance.\n",
        "- Ensure the headline is **concise** and **impact-driven**.\n",
        "\n",
        "Here are a few examples:\n",
        "Examples of Improved Headlines:\n",
        "- Rising CPC Threatens Campaign Cost Efficiency\n",
        "- Ad Extensions Optimization Needed for Enhanced Visibility\n",
        "- Underperforming Search Keywords Impacting Conversion Rate\n",
        "- Social Campaigns Have Inefficient Budget Allocation\n",
        "- Low Ad Spend Limiting PERFORMANCE_MAX Reach & Performance\n",
        "Here is the data:\n",
        "\n",
        "    \"\"\" + df.to_string()  + \"\"\"\n",
        "\n",
        "    Please provide your analysis and recommendations in the json format: my input has 30 records\n",
        "### **Important Rules:**\n",
        "1. The serial numbers of input & llm generated output **must match the order in the provided data**.\n",
        "2. **DO NOT introduce or remove rows**—keep the count the same.\n",
        "\n",
        "    give sr_no same as input data, old headline & new headline\n",
        "\n",
        "\"\"\"\n",
        "\n",
        "# response = get_completion(prompt)   ## in string format\n",
        "\n",
        "response_json = json.loads(get_completion(prompt))\n",
        "print(response_json)\n"
      ],
      "metadata": {
        "colab": {
          "base_uri": "https://localhost:8080/"
        },
        "id": "VLmkgoHyT1NB",
        "outputId": "4c0101da-2dc1-4de1-cd82-1c3a73954f95"
      },
      "execution_count": null,
      "outputs": [
        {
          "output_type": "stream",
          "name": "stdout",
          "text": [
            "{'recommendations': [{'sr_no': 181, 'old_headline': 'Implement Ad Extensions for Enhanced Engagement', 'new_headline': 'Declining CTR Signals Urgent Need for Ad Extensions'}]}\n"
          ]
        }
      ]
    },
    {
      "cell_type": "code",
      "source": [
        "# Convert to DataFrame\n",
        "df_response = pd.DataFrame(response_json['recommendations'])\n",
        "\n",
        "df_response.head(1000)"
      ],
      "metadata": {
        "colab": {
          "base_uri": "https://localhost:8080/",
          "height": 161
        },
        "id": "iqgprBYvj-qP",
        "outputId": "0b876348-d9b2-4c4f-b830-897a800bf0b9"
      },
      "execution_count": null,
      "outputs": [
        {
          "output_type": "execute_result",
          "data": {
            "text/plain": [
              "   sr_no                                     old_headline  \\\n",
              "0    181  Implement Ad Extensions for Enhanced Engagement   \n",
              "\n",
              "                                        new_headline  \n",
              "0  Declining CTR Signals Urgent Need for Ad Exten...  "
            ],
            "text/html": [
              "\n",
              "  <div id=\"df-7a94428e-8b9b-4a7d-9295-525b0d24ae76\" class=\"colab-df-container\">\n",
              "    <div>\n",
              "<style scoped>\n",
              "    .dataframe tbody tr th:only-of-type {\n",
              "        vertical-align: middle;\n",
              "    }\n",
              "\n",
              "    .dataframe tbody tr th {\n",
              "        vertical-align: top;\n",
              "    }\n",
              "\n",
              "    .dataframe thead th {\n",
              "        text-align: right;\n",
              "    }\n",
              "</style>\n",
              "<table border=\"1\" class=\"dataframe\">\n",
              "  <thead>\n",
              "    <tr style=\"text-align: right;\">\n",
              "      <th></th>\n",
              "      <th>sr_no</th>\n",
              "      <th>old_headline</th>\n",
              "      <th>new_headline</th>\n",
              "    </tr>\n",
              "  </thead>\n",
              "  <tbody>\n",
              "    <tr>\n",
              "      <th>0</th>\n",
              "      <td>181</td>\n",
              "      <td>Implement Ad Extensions for Enhanced Engagement</td>\n",
              "      <td>Declining CTR Signals Urgent Need for Ad Exten...</td>\n",
              "    </tr>\n",
              "  </tbody>\n",
              "</table>\n",
              "</div>\n",
              "    <div class=\"colab-df-buttons\">\n",
              "\n",
              "  <div class=\"colab-df-container\">\n",
              "    <button class=\"colab-df-convert\" onclick=\"convertToInteractive('df-7a94428e-8b9b-4a7d-9295-525b0d24ae76')\"\n",
              "            title=\"Convert this dataframe to an interactive table.\"\n",
              "            style=\"display:none;\">\n",
              "\n",
              "  <svg xmlns=\"http://www.w3.org/2000/svg\" height=\"24px\" viewBox=\"0 -960 960 960\">\n",
              "    <path d=\"M120-120v-720h720v720H120Zm60-500h600v-160H180v160Zm220 220h160v-160H400v160Zm0 220h160v-160H400v160ZM180-400h160v-160H180v160Zm440 0h160v-160H620v160ZM180-180h160v-160H180v160Zm440 0h160v-160H620v160Z\"/>\n",
              "  </svg>\n",
              "    </button>\n",
              "\n",
              "  <style>\n",
              "    .colab-df-container {\n",
              "      display:flex;\n",
              "      gap: 12px;\n",
              "    }\n",
              "\n",
              "    .colab-df-convert {\n",
              "      background-color: #E8F0FE;\n",
              "      border: none;\n",
              "      border-radius: 50%;\n",
              "      cursor: pointer;\n",
              "      display: none;\n",
              "      fill: #1967D2;\n",
              "      height: 32px;\n",
              "      padding: 0 0 0 0;\n",
              "      width: 32px;\n",
              "    }\n",
              "\n",
              "    .colab-df-convert:hover {\n",
              "      background-color: #E2EBFA;\n",
              "      box-shadow: 0px 1px 2px rgba(60, 64, 67, 0.3), 0px 1px 3px 1px rgba(60, 64, 67, 0.15);\n",
              "      fill: #174EA6;\n",
              "    }\n",
              "\n",
              "    .colab-df-buttons div {\n",
              "      margin-bottom: 4px;\n",
              "    }\n",
              "\n",
              "    [theme=dark] .colab-df-convert {\n",
              "      background-color: #3B4455;\n",
              "      fill: #D2E3FC;\n",
              "    }\n",
              "\n",
              "    [theme=dark] .colab-df-convert:hover {\n",
              "      background-color: #434B5C;\n",
              "      box-shadow: 0px 1px 3px 1px rgba(0, 0, 0, 0.15);\n",
              "      filter: drop-shadow(0px 1px 2px rgba(0, 0, 0, 0.3));\n",
              "      fill: #FFFFFF;\n",
              "    }\n",
              "  </style>\n",
              "\n",
              "    <script>\n",
              "      const buttonEl =\n",
              "        document.querySelector('#df-7a94428e-8b9b-4a7d-9295-525b0d24ae76 button.colab-df-convert');\n",
              "      buttonEl.style.display =\n",
              "        google.colab.kernel.accessAllowed ? 'block' : 'none';\n",
              "\n",
              "      async function convertToInteractive(key) {\n",
              "        const element = document.querySelector('#df-7a94428e-8b9b-4a7d-9295-525b0d24ae76');\n",
              "        const dataTable =\n",
              "          await google.colab.kernel.invokeFunction('convertToInteractive',\n",
              "                                                    [key], {});\n",
              "        if (!dataTable) return;\n",
              "\n",
              "        const docLinkHtml = 'Like what you see? Visit the ' +\n",
              "          '<a target=\"_blank\" href=https://colab.research.google.com/notebooks/data_table.ipynb>data table notebook</a>'\n",
              "          + ' to learn more about interactive tables.';\n",
              "        element.innerHTML = '';\n",
              "        dataTable['output_type'] = 'display_data';\n",
              "        await google.colab.output.renderOutput(dataTable, element);\n",
              "        const docLink = document.createElement('div');\n",
              "        docLink.innerHTML = docLinkHtml;\n",
              "        element.appendChild(docLink);\n",
              "      }\n",
              "    </script>\n",
              "  </div>\n",
              "\n",
              "\n",
              "    </div>\n",
              "  </div>\n"
            ],
            "application/vnd.google.colaboratory.intrinsic+json": {
              "type": "dataframe",
              "variable_name": "df_response",
              "summary": "{\n  \"name\": \"df_response\",\n  \"rows\": 1,\n  \"fields\": [\n    {\n      \"column\": \"sr_no\",\n      \"properties\": {\n        \"dtype\": \"number\",\n        \"std\": null,\n        \"min\": 181,\n        \"max\": 181,\n        \"num_unique_values\": 1,\n        \"samples\": [\n          181\n        ],\n        \"semantic_type\": \"\",\n        \"description\": \"\"\n      }\n    },\n    {\n      \"column\": \"old_headline\",\n      \"properties\": {\n        \"dtype\": \"string\",\n        \"num_unique_values\": 1,\n        \"samples\": [\n          \"Implement Ad Extensions for Enhanced Engagement\"\n        ],\n        \"semantic_type\": \"\",\n        \"description\": \"\"\n      }\n    },\n    {\n      \"column\": \"new_headline\",\n      \"properties\": {\n        \"dtype\": \"string\",\n        \"num_unique_values\": 1,\n        \"samples\": [\n          \"Declining CTR Signals Urgent Need for Ad Extensions\"\n        ],\n        \"semantic_type\": \"\",\n        \"description\": \"\"\n      }\n    }\n  ]\n}"
            }
          },
          "metadata": {},
          "execution_count": 199
        }
      ]
    },
    {
      "cell_type": "code",
      "source": [],
      "metadata": {
        "id": "GcHRX1EcrAz4"
      },
      "execution_count": null,
      "outputs": []
    }
  ]
}